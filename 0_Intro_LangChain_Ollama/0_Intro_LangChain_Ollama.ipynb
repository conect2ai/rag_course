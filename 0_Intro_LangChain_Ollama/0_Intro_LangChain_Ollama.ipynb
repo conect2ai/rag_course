{
 "cells": [
  {
   "cell_type": "markdown",
   "metadata": {},
   "source": [
    "## **Introduction to LangChain and Ollama Integration**"
   ]
  },
  {
   "cell_type": "markdown",
   "metadata": {},
   "source": [
    "### **Installing Required Libraries**"
   ]
  },
  {
   "cell_type": "code",
   "execution_count": null,
   "metadata": {},
   "outputs": [],
   "source": [
    "%pip install langchain langchain-ollama langchain-community"
   ]
  },
  {
   "cell_type": "code",
   "execution_count": 3,
   "metadata": {},
   "outputs": [
    {
     "name": "stdout",
     "output_type": "stream",
     "text": [
      "Requirement already satisfied: pip in c:\\users\\thais\\desktop\\repositories\\rag_course\\venv\\lib\\site-packages (24.0)\n",
      "Collecting pip\n",
      "  Downloading pip-25.0.1-py3-none-any.whl.metadata (3.7 kB)\n",
      "Downloading pip-25.0.1-py3-none-any.whl (1.8 MB)\n",
      "   ---------------------------------------- 0.0/1.8 MB ? eta -:--:--\n",
      "   ---------------------------------------- 0.0/1.8 MB ? eta -:--:--\n",
      "    --------------------------------------- 0.0/1.8 MB 640.0 kB/s eta 0:00:03\n",
      "   -- ------------------------------------- 0.1/1.8 MB 871.5 kB/s eta 0:00:03\n",
      "   ----- ---------------------------------- 0.2/1.8 MB 1.8 MB/s eta 0:00:01\n",
      "   --------- ------------------------------ 0.4/1.8 MB 2.4 MB/s eta 0:00:01\n",
      "   -------------- ------------------------- 0.7/1.8 MB 3.0 MB/s eta 0:00:01\n",
      "   -------------- ------------------------- 0.7/1.8 MB 3.0 MB/s eta 0:00:01\n",
      "   ------------------ --------------------- 0.8/1.8 MB 2.6 MB/s eta 0:00:01\n",
      "   ---------------------------- ----------- 1.3/1.8 MB 3.7 MB/s eta 0:00:01\n",
      "   ---------------------------------- ----- 1.6/1.8 MB 3.8 MB/s eta 0:00:01\n",
      "   -------------------------------------- - 1.8/1.8 MB 3.9 MB/s eta 0:00:01\n",
      "   ---------------------------------------- 1.8/1.8 MB 3.8 MB/s eta 0:00:00\n",
      "Installing collected packages: pip\n",
      "  Attempting uninstall: pip\n",
      "    Found existing installation: pip 24.0\n",
      "    Uninstalling pip-24.0:\n",
      "      Successfully uninstalled pip-24.0\n",
      "Successfully installed pip-25.0.1\n",
      "Note: you may need to restart the kernel to use updated packages.\n"
     ]
    }
   ],
   "source": [
    "%pip install --upgrade pip"
   ]
  },
  {
   "cell_type": "markdown",
   "metadata": {},
   "source": [
    "### **LangChain and Ollama Integration**"
   ]
  },
  {
   "cell_type": "code",
   "execution_count": 1,
   "metadata": {},
   "outputs": [],
   "source": [
    "from langchain_ollama import ChatOllama\n",
    "from langchain_core.prompts import ChatPromptTemplate\n",
    "\n",
    "llm = ChatOllama(\n",
    "    model=\"qwen2:7b-instruct\",\n",
    "    temperature=0,\n",
    ")"
   ]
  },
  {
   "cell_type": "code",
   "execution_count": 5,
   "metadata": {},
   "outputs": [],
   "source": [
    "prompt = ChatPromptTemplate.from_messages(\n",
    "    [\n",
    "        (\n",
    "            \"system\",\n",
    "            \"You are a helpful assistant that answers questions.\",\n",
    "        ),\n",
    "        (\"human\", \"{input}\"),\n",
    "    ]\n",
    ")\n",
    "\n",
    "chain = prompt | llm\n",
    "response = chain.invoke(\n",
    "    {\n",
    "        \"input\": \"Qual atriz brasileira ganhou o Globo de Ouro em 2025?\",\n",
    "    }\n",
    ")"
   ]
  },
  {
   "cell_type": "code",
   "execution_count": 7,
   "metadata": {},
   "outputs": [
    {
     "data": {
      "text/plain": [
       "AIMessage(content='Desculpe, mas como assistente de inteligência artificial, eu não tenho a capacidade de prever eventos futuros ou acessar informações que ainda não foram lançadas. Portanto, não consigo informar qual atriz brasileira ganhou o Globo de Ouro em 2025.', additional_kwargs={}, response_metadata={'model': 'qwen2:7b-instruct', 'created_at': '2025-02-19T13:09:46.328982Z', 'done': True, 'done_reason': 'stop', 'total_duration': 27820783800, 'load_duration': 7083211400, 'prompt_eval_count': 42, 'prompt_eval_duration': 1489084000, 'eval_count': 66, 'eval_duration': 19243648000, 'message': Message(role='assistant', content='', images=None, tool_calls=None)}, id='run-f9207ba8-0c45-4974-89cc-2f41c1a3cd75-0', usage_metadata={'input_tokens': 42, 'output_tokens': 66, 'total_tokens': 108})"
      ]
     },
     "execution_count": 7,
     "metadata": {},
     "output_type": "execute_result"
    }
   ],
   "source": [
    "response"
   ]
  },
  {
   "cell_type": "code",
   "execution_count": 6,
   "metadata": {},
   "outputs": [
    {
     "data": {
      "text/plain": [
       "'Desculpe, mas como assistente de inteligência artificial, eu não tenho a capacidade de prever eventos futuros ou acessar informações que ainda não foram lançadas. Portanto, não consigo informar qual atriz brasileira ganhou o Globo de Ouro em 2025.'"
      ]
     },
     "execution_count": 6,
     "metadata": {},
     "output_type": "execute_result"
    }
   ],
   "source": [
    "response.content"
   ]
  }
 ],
 "metadata": {
  "kernelspec": {
   "display_name": "venv",
   "language": "python",
   "name": "python3"
  },
  "language_info": {
   "codemirror_mode": {
    "name": "ipython",
    "version": 3
   },
   "file_extension": ".py",
   "mimetype": "text/x-python",
   "name": "python",
   "nbconvert_exporter": "python",
   "pygments_lexer": "ipython3",
   "version": "3.11.9"
  }
 },
 "nbformat": 4,
 "nbformat_minor": 2
}
