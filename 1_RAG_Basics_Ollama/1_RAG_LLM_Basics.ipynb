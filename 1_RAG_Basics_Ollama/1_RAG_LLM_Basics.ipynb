{
 "cells": [
  {
   "cell_type": "markdown",
   "metadata": {},
   "source": [
    "## **A simple Q&A application over a text data source**"
   ]
  },
  {
   "cell_type": "markdown",
   "metadata": {},
   "source": [
    "### **Installing Required Libraries**"
   ]
  },
  {
   "cell_type": "code",
   "execution_count": null,
   "metadata": {},
   "outputs": [],
   "source": [
    "%pip install langchain langchain-ollama langchain-community langgraph faiss-cpu"
   ]
  },
  {
   "cell_type": "code",
   "execution_count": 3,
   "metadata": {},
   "outputs": [
    {
     "name": "stdout",
     "output_type": "stream",
     "text": [
      "Requirement already satisfied: pip in c:\\users\\thais\\desktop\\repositories\\rag_course\\venv\\lib\\site-packages (24.0)\n",
      "Collecting pip\n",
      "  Downloading pip-25.0.1-py3-none-any.whl.metadata (3.7 kB)\n",
      "Downloading pip-25.0.1-py3-none-any.whl (1.8 MB)\n",
      "   ---------------------------------------- 0.0/1.8 MB ? eta -:--:--\n",
      "   ---------------------------------------- 0.0/1.8 MB ? eta -:--:--\n",
      "    --------------------------------------- 0.0/1.8 MB 640.0 kB/s eta 0:00:03\n",
      "   -- ------------------------------------- 0.1/1.8 MB 871.5 kB/s eta 0:00:03\n",
      "   ----- ---------------------------------- 0.2/1.8 MB 1.8 MB/s eta 0:00:01\n",
      "   --------- ------------------------------ 0.4/1.8 MB 2.4 MB/s eta 0:00:01\n",
      "   -------------- ------------------------- 0.7/1.8 MB 3.0 MB/s eta 0:00:01\n",
      "   -------------- ------------------------- 0.7/1.8 MB 3.0 MB/s eta 0:00:01\n",
      "   ------------------ --------------------- 0.8/1.8 MB 2.6 MB/s eta 0:00:01\n",
      "   ---------------------------- ----------- 1.3/1.8 MB 3.7 MB/s eta 0:00:01\n",
      "   ---------------------------------- ----- 1.6/1.8 MB 3.8 MB/s eta 0:00:01\n",
      "   -------------------------------------- - 1.8/1.8 MB 3.9 MB/s eta 0:00:01\n",
      "   ---------------------------------------- 1.8/1.8 MB 3.8 MB/s eta 0:00:00\n",
      "Installing collected packages: pip\n",
      "  Attempting uninstall: pip\n",
      "    Found existing installation: pip 24.0\n",
      "    Uninstalling pip-24.0:\n",
      "      Successfully uninstalled pip-24.0\n",
      "Successfully installed pip-25.0.1\n",
      "Note: you may need to restart the kernel to use updated packages.\n"
     ]
    }
   ],
   "source": [
    "%pip install --upgrade pip"
   ]
  },
  {
   "cell_type": "markdown",
   "metadata": {},
   "source": [
    "### **Basic RAG**"
   ]
  },
  {
   "cell_type": "code",
   "execution_count": 45,
   "metadata": {},
   "outputs": [],
   "source": [
    "from langchain_community.embeddings import OllamaEmbeddings\n",
    "from langchain_community.vectorstores import FAISS\n",
    "from langchain.schema import Document\n",
    "from langchain_ollama import ChatOllama\n",
    "from langchain_core.prompts import ChatPromptTemplate\n",
    "from typing_extensions import TypedDict\n",
    "from typing import List\n",
    "from langgraph.graph import START, StateGraph\n",
    "from IPython.display import Image, display\n",
    "from pprint import pprint\n",
    "from langchain_text_splitters import RecursiveCharacterTextSplitter"
   ]
  },
  {
   "cell_type": "code",
   "execution_count": null,
   "metadata": {},
   "outputs": [],
   "source": [
    "document = \"\"\"\n",
    "O Brasil amanheceu com uma conquista inédita: Fernanda Torres tornou-se a primeira atriz brasileira a vencer o Globo de Ouro em 2025. Ela foi premiada por sua atuação em Ainda Estou Aqui, primeiro filme original do Globoplay, na categoria de melhor atriz em filme de drama.\n",
    "\n",
    "\n",
    "Na cerimônia em Hollywood, Walter Salles celebrou o reconhecimento e destacou o impacto do filme no público brasileiro. Baseado no livro de Marcelo Rubens Paiva, o longa retrata a luta de Eunice Paiva para encontrar o marido, Rubens Paiva, desaparecido na ditadura militar.\n",
    "\"\"\""
   ]
  },
  {
   "cell_type": "code",
   "execution_count": null,
   "metadata": {},
   "outputs": [],
   "source": [
    "text_splitter = RecursiveCharacterTextSplitter(\n",
    "    chunk_size=200,\n",
    "    length_function=len,\n",
    "    is_separator_regex=False,\n",
    "    separators=[\"\\n\\n\"],\n",
    ")\n",
    "\n",
    "texts = text_splitter.create_documents([document])\n",
    "\n",
    "embeddings = OllamaEmbeddings(model=\"nomic-embed-text\")\n",
    "\n",
    "vector_store = FAISS.from_documents(texts, embedding=embeddings)"
   ]
  },
  {
   "cell_type": "code",
   "execution_count": 4,
   "metadata": {},
   "outputs": [
    {
     "name": "stdout",
     "output_type": "stream",
     "text": [
      "[Document(metadata={}, page_content='\\nO Brasil amanheceu com uma conquista inédita: Fernanda Torres tornou-se a primeira atriz brasileira a vencer o Globo de Ouro em 2025. Ela foi premiada por sua atuação em Ainda Estou Aqui, primeiro filme original do Globoplay, na categoria de melhor atriz em filme de drama.'), Document(metadata={}, page_content='\\n\\n\\nNa cerimônia em Hollywood, Walter Salles celebrou o reconhecimento e destacou o impacto do filme no público brasileiro. Baseado no livro de Marcelo Rubens Paiva, o longa retrata a luta de Eunice Paiva para encontrar o marido, Rubens Paiva, desaparecido na ditadura militar.\\n')]\n"
     ]
    }
   ],
   "source": [
    "print(texts)"
   ]
  },
  {
   "cell_type": "code",
   "execution_count": 32,
   "metadata": {},
   "outputs": [],
   "source": [
    "template=\"\"\"You are an assistant for question-answering tasks. Use the following pieces of retrieved context to answer the question. If you don't know the answer, just say that you don't know.\n",
    "\n",
    "Question: {question}\n",
    "\n",
    "Context: {context} \n",
    "\n",
    "Answer (brazilian portuguese):\"\"\"\n",
    "\n",
    "prompt = ChatPromptTemplate.from_template(template)\n",
    "\n",
    "llm = ChatOllama(temperature=0, model=\"qwen2:7b-instruct\")"
   ]
  },
  {
   "cell_type": "code",
   "execution_count": null,
   "metadata": {},
   "outputs": [],
   "source": [
    "class State(TypedDict):\n",
    "    question: str\n",
    "    context: List[Document]\n",
    "    answer: str\n",
    "\n",
    "def retrieve(state: State) -> State:\n",
    "    \"\"\"\n",
    "    Recover step: retrieves the most relevant documents from the vector store.\n",
    "    \n",
    "    Args:\n",
    "        state: the current state of the conversation.\n",
    "        \n",
    "    Returns: \n",
    "        a dictionary with the key \"context\" that will be added to the state.\n",
    "    \"\"\"\n",
    "    retrieved_docs = vector_store.similarity_search(state[\"question\"], k=2)\n",
    "\n",
    "    return {\"context\": retrieved_docs}\n",
    "\n",
    "def generate(state: State) -> State:\n",
    "    \"\"\"\n",
    "    Generate step: generates a response based on the retrieved documents.\n",
    "    \n",
    "    Args:\n",
    "        state: the current state of the conversation.\n",
    "        \n",
    "    Returns:\n",
    "        a dictionary with the key \"answer\" that will be added to the state.\n",
    "    \"\"\"\n",
    "    docs_content = \"\\n\\n\".join(doc.page_content for doc in state[\"context\"])\n",
    "    messages = prompt.invoke({\"question\": state[\"question\"], \"context\": docs_content})\n",
    "    response = llm.invoke(messages)\n",
    "\n",
    "    if hasattr(response, \"content\"):\n",
    "        return {\"answer\": response.content}\n",
    "    elif isinstance(response, str):\n",
    "        return {\"answer\": response}\n",
    "    else:\n",
    "        raise ValueError(\"Unexpected response type\")"
   ]
  },
  {
   "cell_type": "code",
   "execution_count": null,
   "metadata": {},
   "outputs": [],
   "source": [
    "# Create a graph builder\n",
    "graph_builder = StateGraph(State).add_sequence([retrieve, generate])\n",
    "graph_builder.add_edge(START, \"retrieve\")\n",
    "\n",
    "# Compile the graph\n",
    "graph = graph_builder.compile()"
   ]
  },
  {
   "cell_type": "code",
   "execution_count": null,
   "metadata": {},
   "outputs": [
    {
     "data": {
      "image/png": "[encoded data removed]",
      "text/plain": [
       "<IPython.core.display.Image object>"
      ]
     },
     "metadata": {},
     "output_type": "display_data"
    }
   ],
   "source": [
    "# Visualize the graph\n",
    "display(Image(graph.get_graph().draw_mermaid_png()))"
   ]
  },
  {
   "cell_type": "code",
   "execution_count": null,
   "metadata": {},
   "outputs": [
    {
     "name": "stdout",
     "output_type": "stream",
     "text": [
      "{'retrieve': {'context': [Document(id='5577b271-a4a6-489b-9970-b92736bc75cc', metadata={}, page_content='\\nO Brasil amanheceu com uma conquista inédita: Fernanda Torres tornou-se a primeira atriz brasileira a vencer o Globo de Ouro em 2025. Ela foi premiada por sua atuação em Ainda Estou Aqui, primeiro filme original do Globoplay, na categoria de melhor atriz em filme de drama.'), Document(id='e6007329-731c-41bd-9a37-a27a95e96015', metadata={}, page_content='\\n\\n\\nNa cerimônia em Hollywood, Walter Salles celebrou o reconhecimento e destacou o impacto do filme no público brasileiro. Baseado no livro de Marcelo Rubens Paiva, o longa retrata a luta de Eunice Paiva para encontrar o marido, Rubens Paiva, desaparecido na ditadura militar.\\n')]}}\n",
      "\n",
      "---\n",
      "\n",
      "{'generate': {'answer': 'A atriz brasileira que ganhou o Globo de Ouro em 2025 foi Fernanda Torres. Ela recebeu o prêmio por sua atuação no filme \"Ainda Estou Aqui\", primeiro filme original do Globoplay.'}}\n",
      "\n",
      "---\n",
      "\n"
     ]
    }
   ],
   "source": [
    "# Stream the graph\n",
    "for step_result in graph.stream({\"question\": \"Qual atriz brasileira ganhou o Globo de Ouro em 2025?\"}, stream_mode=\"updates\"):\n",
    "    print(step_result)\n",
    "    print(\"\\n---\\n\")"
   ]
  },
  {
   "cell_type": "code",
   "execution_count": 44,
   "metadata": {},
   "outputs": [
    {
     "name": "stdout",
     "output_type": "stream",
     "text": [
      "A atriz brasileira que ganhou o Globo de Ouro em 2025 foi Fernanda Torres. Ela recebeu o prêmio por sua atuação no filme \"Ainda Estou Aqui\", primeiro filme original do Globoplay.\n"
     ]
    }
   ],
   "source": [
    "resposta = step_result[\"generate\"][\"answer\"]\n",
    "print(resposta)"
   ]
  }
 ],
 "metadata": {
  "kernelspec": {
   "display_name": "venv",
   "language": "python",
   "name": "python3"
  },
  "language_info": {
   "codemirror_mode": {
    "name": "ipython",
    "version": 3
   },
   "file_extension": ".py",
   "mimetype": "text/x-python",
   "name": "python",
   "nbconvert_exporter": "python",
   "pygments_lexer": "ipython3",
   "version": "3.11.9"
  }
 },
 "nbformat": 4,
 "nbformat_minor": 2
}
